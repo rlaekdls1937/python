{
 "cells": [
  {
   "cell_type": "code",
   "execution_count": 4,
   "metadata": {},
   "outputs": [],
   "source": [
    "# 조건문\n",
    "# if 조건문\n",
    "# if 조건: \n",
    "#   실행문"
   ]
  },
  {
   "cell_type": "code",
   "execution_count": 12,
   "metadata": {},
   "outputs": [],
   "source": [
    "number = 12345\n",
    "# : 이후에 새로운 코드 블럭이 생기면 라인 첫 공백을 모두 같게 해야함 \n",
    "if number % 2 == 0:\n",
    "    print('짝수')\n",
    "    print('짝수')"
   ]
  },
  {
   "cell_type": "code",
   "execution_count": 13,
   "metadata": {},
   "outputs": [],
   "source": [
    "# else\n",
    "# else: \n",
    "#   실행문 "
   ]
  },
  {
   "cell_type": "code",
   "execution_count": 14,
   "metadata": {},
   "outputs": [
    {
     "name": "stdout",
     "output_type": "stream",
     "text": [
      "홀수\n"
     ]
    }
   ],
   "source": [
    "if number % 2 == 0:\n",
    "    print('짝수')\n",
    "else:\n",
    "    print('홀수')"
   ]
  },
  {
   "cell_type": "code",
   "execution_count": 15,
   "metadata": {},
   "outputs": [],
   "source": [
    "# 윤년\n",
    "# 4202년이 윤년인지 아닌지 판별하는 조건문을 작성하시오"
   ]
  },
  {
   "cell_type": "code",
   "execution_count": 90,
   "metadata": {},
   "outputs": [
    {
     "name": "stdout",
     "output_type": "stream",
     "text": [
      "윤년이 아닙니다.\n"
     ]
    }
   ],
   "source": [
    "year = 2042\n",
    "if  year % 400 == 0 or year % 100 != 0 and year % 4 == 0:\n",
    "    print(\"윤년입니다.\")\n",
    "else:\n",
    "    print(\"윤년이 아닙니다.\")"
   ]
  },
  {
   "cell_type": "code",
   "execution_count": 91,
   "metadata": {},
   "outputs": [],
   "source": [
    "# elif (else if): 상위의 조건이 false이면서 elif의 조건이 true이면 실행\n",
    "# elif 조건:\n",
    "#   실행문"
   ]
  },
  {
   "cell_type": "code",
   "execution_count": 93,
   "metadata": {},
   "outputs": [
    {
     "name": "stdout",
     "output_type": "stream",
     "text": [
      "F\n"
     ]
    }
   ],
   "source": [
    "score = 30\n",
    "if score > 90:\n",
    "    print('A')\n",
    "elif score > 80:\n",
    "    print('B')\n",
    "elif score > 70:\n",
    "    print('C')\n",
    "elif score > 60:\n",
    "    print('D')\n",
    "else:\n",
    "    print('F')"
   ]
  },
  {
   "cell_type": "code",
   "execution_count": 94,
   "metadata": {},
   "outputs": [
    {
     "name": "stdout",
     "output_type": "stream",
     "text": [
      "1등급\n"
     ]
    }
   ],
   "source": [
    "# 수박등급 \n",
    "#어떤 농장에서는 수박이 10kg이 넘으면 1등급, 그렇지 않고 7kg이 넘으면 2등급,\n",
    "#그렇지 않고 4kg이 넘으면 3등급, 나머지는 4등급을 준다고 한다. \n",
    "#이 수박의 등급을 정하는 파이썬 코드를 작성한다.\n",
    "\n",
    "warter_melon = 6\n",
    "if score >= 10:\n",
    "    print('1등급')\n",
    "elif score >= 7:\n",
    "    print('2등급')\n",
    "elif score >= 4:\n",
    "    print('3등급')\n",
    "else:\n",
    "    print('4등급')\n"
   ]
  }
 ],
 "metadata": {
  "kernelspec": {
   "display_name": "Python 3",
   "language": "python",
   "name": "python3"
  },
  "language_info": {
   "codemirror_mode": {
    "name": "ipython",
    "version": 3
   },
   "file_extension": ".py",
   "mimetype": "text/x-python",
   "name": "python",
   "nbconvert_exporter": "python",
   "pygments_lexer": "ipython3",
   "version": "3.12.2"
  }
 },
 "nbformat": 4,
 "nbformat_minor": 2
}
