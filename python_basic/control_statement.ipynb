{
 "cells": [
  {
   "cell_type": "code",
   "execution_count": 4,
   "metadata": {},
   "outputs": [],
   "source": [
    "# 조건문\n",
    "# if 조건문\n",
    "# if 조건: \n",
    "#   실행문"
   ]
  },
  {
   "cell_type": "code",
   "execution_count": 12,
   "metadata": {},
   "outputs": [],
   "source": [
    "number = 12345\n",
    "# : 이후에 새로운 코드 블럭이 생기면 라인 첫 공백을 모두 같게 해야함 \n",
    "if number % 2 == 0:\n",
    "    print('짝수')\n",
    "    print('짝수')"
   ]
  },
  {
   "cell_type": "code",
   "execution_count": 13,
   "metadata": {},
   "outputs": [],
   "source": [
    "# else\n",
    "# else: \n",
    "#   실행문 "
   ]
  },
  {
   "cell_type": "code",
   "execution_count": 14,
   "metadata": {},
   "outputs": [
    {
     "name": "stdout",
     "output_type": "stream",
     "text": [
      "홀수\n"
     ]
    }
   ],
   "source": [
    "if number % 2 == 0:\n",
    "    print('짝수')\n",
    "else:\n",
    "    print('홀수')"
   ]
  },
  {
   "cell_type": "code",
   "execution_count": 112,
   "metadata": {},
   "outputs": [],
   "source": [
    "# 윤년\n",
    "# 4202년이 윤년인지 아닌지 판별하는 조건문을 작성하시오"
   ]
  },
  {
   "cell_type": "code",
   "execution_count": 90,
   "metadata": {},
   "outputs": [
    {
     "name": "stdout",
     "output_type": "stream",
     "text": [
      "윤년이 아닙니다.\n"
     ]
    }
   ],
   "source": [
    "year = 2042\n",
    "if  year % 400 == 0 or year % 100 != 0 and year % 4 == 0:\n",
    "    print(\"윤년입니다.\")\n",
    "else:\n",
    "    print(\"윤년이 아닙니다.\")"
   ]
  },
  {
   "cell_type": "code",
   "execution_count": 91,
   "metadata": {},
   "outputs": [],
   "source": [
    "# elif (else if): 상위의 조건이 false이면서 elif의 조건이 true이면 실행\n",
    "# elif 조건:\n",
    "#   실행문"
   ]
  },
  {
   "cell_type": "code",
   "execution_count": 93,
   "metadata": {},
   "outputs": [
    {
     "name": "stdout",
     "output_type": "stream",
     "text": [
      "F\n"
     ]
    }
   ],
   "source": [
    "score = 30\n",
    "if score > 90:\n",
    "    print('A')\n",
    "elif score > 80:\n",
    "    print('B')\n",
    "elif score > 70:\n",
    "    print('C')\n",
    "elif score > 60:\n",
    "    print('D')\n",
    "else:\n",
    "    print('F')"
   ]
  },
  {
   "cell_type": "code",
   "execution_count": 97,
   "metadata": {},
   "outputs": [
    {
     "name": "stdout",
     "output_type": "stream",
     "text": [
      "3등급\n"
     ]
    }
   ],
   "source": [
    "# 수박등급 \n",
    "#어떤 농장에서는 수박이 10kg이 넘으면 1등급, 그렇지 않고 7kg이 넘으면 2등급,그렇지 않고 4kg이 넘으면 3등급, 나머지는 4등급을 준다고 한다. 이 수박의 등급을 정하는 파이썬 코드를 작성한다.\n",
    "\n",
    "warter_melon = 6\n",
    "if warter_melon > 10:\n",
    "    print('1등급')\n",
    "elif warter_melon > 7:\n",
    "    print('2등급')\n",
    "elif warter_melon > 4:\n",
    "    print('3등급')\n",
    "else:\n",
    "    print('4등급')\n"
   ]
  },
  {
   "cell_type": "code",
   "execution_count": 98,
   "metadata": {},
   "outputs": [],
   "source": [
    "# 중첩 if\n",
    "# if문 안에 if문 (들여쓰기 조심)"
   ]
  },
  {
   "cell_type": "code",
   "execution_count": 103,
   "metadata": {},
   "outputs": [
    {
     "name": "stdout",
     "output_type": "stream",
     "text": [
      "불합격\n"
     ]
    }
   ],
   "source": [
    "# 중학교에서 팔굽혀펴기 시험을 보는데 남자는 10번 이상을 해야 합격(Pass)이고 아니면 불합격(Fail)이다. 여자는 5번 이상을 해야 합격이라면 다음과 같이 프로그램을 만들 수 있다.\n",
    "\n",
    "gender ='여자'\n",
    "count = 4\n",
    "if gender == '남자':\n",
    "    if count >= 10:\n",
    "        print('합격')\n",
    "    else:\n",
    "        print('불합격')\n",
    "    # 남자일 때\n",
    "else:\n",
    "    # 여자일 때\n",
    "    if count >= 5:\n",
    "        print('합격')\n",
    "    else: \n",
    "        print('불합격')"
   ]
  },
  {
   "cell_type": "code",
   "execution_count": 113,
   "metadata": {},
   "outputs": [
    {
     "name": "stdout",
     "output_type": "stream",
     "text": [
      "불합격\n"
     ]
    }
   ],
   "source": [
    "gender ='남자'\n",
    "count = -2\n",
    "if (gender == '남자' and count >= 10) or (gender == '여자' and count >= 5):\n",
    "    print('합격')\n",
    "else:\n",
    "    print('불합격')"
   ]
  },
  {
   "cell_type": "code",
   "execution_count": 8,
   "metadata": {},
   "outputs": [
    {
     "name": "stdout",
     "output_type": "stream",
     "text": [
      "윤년입니다.\n"
     ]
    }
   ],
   "source": [
    "# 윤년문제를 오늘배운 방법중에 다른방법으로 풀어보기\n",
    "# 죄수의 딜레마 풀어보기(사이트 이용) \n",
    "# a = input('입력:')\n",
    "# print(a)\n",
    "year = int(input('연도를 입력하세요:'))\n",
    "if year % 400 == 0:\n",
    "    print('윤년입니다.')\n",
    "else:\n",
    "    if year % 4 == 0:\n",
    "        if year % 100 != 0:\n",
    "            print('윤년입니다.')\n",
    "        else:\n",
    "            print('윤년이 아닙니다.')\n",
    "    else:\n",
    "        print('윤년이 아닙니다.')        \n",
    "\n"
   ]
  },
  {
   "cell_type": "code",
   "execution_count": 12,
   "metadata": {},
   "outputs": [
    {
     "name": "stdout",
     "output_type": "stream",
     "text": [
      "A의 복역 년수는 5년, B의 복역 년수는 5년 입니다.\n"
     ]
    }
   ],
   "source": [
    "# XA = input('자백 여부:') = \"True\"      Boolean 형태로 받는게 아니라 str 형태로 받아서 똑같은지 아닌지로 판단\n",
    "# XB = input('자백 여부:') = \"True\"  \n",
    "\n",
    "XA = bool(input('자백 여부:'))\n",
    "XB = bool(input('자백 여부:'))\n",
    "YA = 0\n",
    "YB = 0\n",
    "if XA:\n",
    "    if XB:\n",
    "        YA = 5\n",
    "        YB = 5\n",
    "    else:\n",
    "        YA = 0\n",
    "        YB = 10\n",
    "else:\n",
    "    if XB:\n",
    "        YA = 10\n",
    "        YB = 0\n",
    "    else:\n",
    "        YA = 1\n",
    "        YB = 1\n",
    "print(f'A의 복역 년수는 {YA}년, B의 복역 년수는 {YB}년 입니다.')            \n"
   ]
  },
  {
   "cell_type": "code",
   "execution_count": 11,
   "metadata": {},
   "outputs": [
    {
     "name": "stdout",
     "output_type": "stream",
     "text": [
      "A의 복역 년수는 5년, B의 복역 년수는 5년 입니다.\n"
     ]
    }
   ],
   "source": [
    "XA = bool(input('자백 여부:'))\n",
    "XB = bool(input('자백 여부:'))\n",
    "YA = 0\n",
    "YB = 0\n",
    "if XA and XB:\n",
    "    YA = 5\n",
    "    YB = 5\n",
    "elif XA and not XB:\n",
    "    YA = 0\n",
    "    YB = 10\n",
    "elif not XA and XB:\n",
    "    YA = 10\n",
    "    YB = 0\n",
    "else:\n",
    "    YA = 1\n",
    "    YB = 1\n",
    "print(f'A의 복역 년수는 {YA}년, B의 복역 년수는 {YB}년 입니다.') "
   ]
  }
 ],
 "metadata": {
  "kernelspec": {
   "display_name": "Python 3",
   "language": "python",
   "name": "python3"
  },
  "language_info": {
   "codemirror_mode": {
    "name": "ipython",
    "version": 3
   },
   "file_extension": ".py",
   "mimetype": "text/x-python",
   "name": "python",
   "nbconvert_exporter": "python",
   "pygments_lexer": "ipython3",
   "version": "3.12.2"
  }
 },
 "nbformat": 4,
 "nbformat_minor": 2
}
